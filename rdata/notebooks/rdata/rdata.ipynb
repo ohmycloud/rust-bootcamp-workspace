{
 "cells": [
  {
   "cell_type": "code",
   "execution_count": 1,
   "id": "5e9e5098",
   "metadata": {},
   "outputs": [],
   "source": [
    "import polars as pl"
   ]
  },
  {
   "cell_type": "code",
   "execution_count": 4,
   "id": "a8aff551",
   "metadata": {},
   "outputs": [],
   "source": [
    "df = pl.read_parquet('../../assets/users.parquet')"
   ]
  },
  {
   "cell_type": "code",
   "execution_count": 6,
   "id": "a220b712",
   "metadata": {},
   "outputs": [
    {
     "name": "stdout",
     "output_type": "stream",
     "text": [
      "shape: (1_000, 13)\n",
      "┌───────────┬───────────┬───────────┬───────────┬───┬───────────┬───────────┬───────────┬──────────┐\n",
      "│ email     ┆ name      ┆ gender    ┆ created_a ┆ … ┆ finished  ┆ last_emai ┆ last_in_a ┆ last_sms │\n",
      "│ ---       ┆ ---       ┆ ---       ┆ t         ┆   ┆ ---       ┆ l_notific ┆ pp_notifi ┆ _notific │\n",
      "│ binary    ┆ binary    ┆ binary    ┆ ---       ┆   ┆ list[i32] ┆ ation     ┆ cation    ┆ ation    │\n",
      "│           ┆           ┆           ┆ datetime[ ┆   ┆           ┆ ---       ┆ ---       ┆ ---      │\n",
      "│           ┆           ┆           ┆ μs, UTC]  ┆   ┆           ┆ datetime[ ┆ datetime[ ┆ datetime │\n",
      "│           ┆           ┆           ┆           ┆   ┆           ┆ μs, UTC]  ┆ μs, UTC]  ┆ [μs,     │\n",
      "│           ┆           ┆           ┆           ┆   ┆           ┆           ┆           ┆ UTC]     │\n",
      "╞═══════════╪═══════════╪═══════════╪═══════════╪═══╪═══════════╪═══════════╪═══════════╪══════════╡\n",
      "│ b\"rickie. ┆ b\"\\xe5\\xb ┆ b\"unknown ┆ 2020-08-1 ┆ … ┆ [414022,  ┆ 2024-03-2 ┆ 2024-04-2 ┆ 2024-05- │\n",
      "│ 6cl60vv5@ ┆ d\\xad\\xe6 ┆ \"         ┆ 0 13:01:2 ┆   ┆ 491753, … ┆ 7 01:27:2 ┆ 5 20:49:2 ┆ 04 23:32 │\n",
      "│ example.n ┆ \\x9d\\xb0\\ ┆           ┆ 5.925310  ┆   ┆ 472922]   ┆ 5.925312  ┆ 5.925312  ┆ :25.9253 │\n",
      "│ et\"       ┆ xe8…      ┆           ┆ UTC       ┆   ┆           ┆ UTC       ┆ UTC       ┆ 13 UTC   │\n",
      "│ b\"olaf.14 ┆ b\"\\xe9\\xa ┆ b\"unknown ┆ 2021-11-1 ┆ … ┆ [484994,  ┆ 2024-03-2 ┆ 2024-04-2 ┆ 2024-03- │\n",
      "│ ymhjtf@ex ┆ d\\x8f\\xe7 ┆ \"         ┆ 3 13:00:2 ┆   ┆ 425061, … ┆ 3 05:16:2 ┆ 4 02:12:2 ┆ 11 05:39 │\n",
      "│ ample.org ┆ \\x92\\x87\\ ┆           ┆ 5.903489  ┆   ┆ 402652]   ┆ 5.903491  ┆ 5.903491  ┆ :25.9034 │\n",
      "│ \"         ┆ xe7…      ┆           ┆ UTC       ┆   ┆           ┆ UTC       ┆ UTC       ┆ 91 UTC   │\n",
      "│ b\"rebecca ┆ b\"\\xe7\\x8 ┆ b\"unknown ┆ 2020-03-2 ┆ … ┆ [462374,  ┆ 2024-04-1 ┆ 2024-05-0 ┆ 2024-04- │\n",
      "│ .3a623w6u ┆ 6\\x8a\\xe7 ┆ \"         ┆ 7 01:20:2 ┆   ┆ 473501, … ┆ 0 03:39:2 ┆ 1 06:26:2 ┆ 20 15:22 │\n",
      "│ @example. ┆ \\x95\\x85\\ ┆           ┆ 5.909394  ┆   ┆ 481486]   ┆ 5.909396  ┆ 5.909396  ┆ :25.9093 │\n",
      "│ com…      ┆ xe7…      ┆           ┆ UTC       ┆   ┆           ┆ UTC       ┆ UTC       ┆ 96 UTC   │\n",
      "│ b\"yvonne. ┆ b\"\\xe5\\xa ┆ b\"unknown ┆ 2022-07-0 ┆ … ┆ [409566,  ┆ 2024-03-2 ┆ 2024-04-2 ┆ 2024-03- │\n",
      "│ qx06kzs6@ ┆ d\\x9f\\xe7 ┆ \"         ┆ 4 00:23:2 ┆   ┆ 409169, … ┆ 6 07:47:2 ┆ 3 22:56:2 ┆ 05 19:52 │\n",
      "│ example.o ┆ \\x91\\x9c\\ ┆           ┆ 5.871170  ┆   ┆ 446264]   ┆ 5.871172  ┆ 5.871173  ┆ :25.8711 │\n",
      "│ rg\"       ┆ xe6…      ┆           ┆ UTC       ┆   ┆           ┆ UTC       ┆ UTC       ┆ 73 UTC   │\n",
      "│ b\"juston. ┆ b\"\\xe9\\x9 ┆ b\"unknown ┆ 2023-11-1 ┆ … ┆ [480200,  ┆ 2024-03-2 ┆ 2024-04-2 ┆ 2024-03- │\n",
      "│ apls64ti@ ┆ 2\\xb1\\xe6 ┆ \"         ┆ 5 00:40:2 ┆   ┆ 456941, … ┆ 2 16:04:2 ┆ 9 07:57:2 ┆ 19 09:04 │\n",
      "│ example.o ┆ \\x9d\\x89\\ ┆           ┆ 5.923932  ┆   ┆ 479533]   ┆ 5.923934  ┆ 5.923934  ┆ :25.9239 │\n",
      "│ rg\"       ┆ xe6…      ┆           ┆ UTC       ┆   ┆           ┆ UTC       ┆ UTC       ┆ 34 UTC   │\n",
      "│ …         ┆ …         ┆ …         ┆ …         ┆ … ┆ …         ┆ …         ┆ …         ┆ …        │\n",
      "│ b\"una.inx ┆ b\"\\xe5\\x9 ┆ b\"unknown ┆ 2022-05-3 ┆ … ┆ [451045,  ┆ 2024-04-1 ┆ 2024-05-0 ┆ 2024-03- │\n",
      "│ gk1lq@exa ┆ 4\\x90\\xe4 ┆ \"         ┆ 1 17:23:2 ┆   ┆ 406002, … ┆ 9 11:08:2 ┆ 1 03:04:2 ┆ 02 04:23 │\n",
      "│ mple.com\" ┆ \\xba\\x91\\ ┆           ┆ 5.857985  ┆   ┆ 433791]   ┆ 5.857987  ┆ 5.857987  ┆ :25.8579 │\n",
      "│           ┆ xe7…      ┆           ┆ UTC       ┆   ┆           ┆ UTC       ┆ UTC       ┆ 87 UTC   │\n",
      "│ b\"raphael ┆ b\"\\xe6\\x9 ┆ b\"unknown ┆ 2021-02-2 ┆ … ┆ [425399,  ┆ 2024-04-2 ┆ 2024-04-2 ┆ 2024-05- │\n",
      "│ le.kk6ikb ┆ c\\xb1\\xe9 ┆ \"         ┆ 7 05:09:2 ┆   ┆ 406483, … ┆ 8 01:49:2 ┆ 9 13:45:2 ┆ 03 22:50 │\n",
      "│ eq@exampl ┆ \\xbc\\x8e\\ ┆           ┆ 5.925316  ┆   ┆ 455421]   ┆ 5.925318  ┆ 5.925318  ┆ :25.9253 │\n",
      "│ e.n…      ┆ xe5…      ┆           ┆ UTC       ┆   ┆           ┆ UTC       ┆ UTC       ┆ 18 UTC   │\n",
      "│ b\"josiann ┆ b\"\\xe8\\xb ┆ b\"unknown ┆ 2021-06-0 ┆ … ┆ [402769,  ┆ 2024-03-3 ┆ 2024-04-2 ┆ 2024-02- │\n",
      "│ e.ceoqsbo ┆ 0\\xad\\xe6 ┆ \"         ┆ 5 18:41:2 ┆   ┆ 466380, … ┆ 1 13:49:2 ┆ 5 17:24:2 ┆ 23 09:33 │\n",
      "│ l@example ┆ \\x98\\x8e\\ ┆           ┆ 5.896514  ┆   ┆ 486798]   ┆ 5.896516  ┆ 5.896516  ┆ :25.8965 │\n",
      "│ .or…      ┆ xe5…      ┆           ┆ UTC       ┆   ┆           ┆ UTC       ┆ UTC       ┆ 16 UTC   │\n",
      "│ b\"anabel. ┆ b\"\\xe5\\xa ┆ b\"unknown ┆ 2023-07-3 ┆ … ┆ [487065,  ┆ 2024-03-2 ┆ 2024-04-3 ┆ 2024-04- │\n",
      "│ r5dxwncd@ ┆ d\\x94\\xe6 ┆ \"         ┆ 1 06:36:2 ┆   ┆ 484298, … ┆ 2 08:00:2 ┆ 0 05:20:2 ┆ 06 12:57 │\n",
      "│ example.c ┆ \\x99\\x8b\\ ┆           ┆ 5.911201  ┆   ┆ 428089]   ┆ 5.911203  ┆ 5.911203  ┆ :25.9112 │\n",
      "│ om\"       ┆ xe8…      ┆           ┆ UTC       ┆   ┆           ┆ UTC       ┆ UTC       ┆ 03 UTC   │\n",
      "│ b\"patrici ┆ b\"\\xe6\\x9 ┆ b\"unknown ┆ 2022-05-1 ┆ … ┆ [422641,  ┆ 2024-04-0 ┆ 2024-04-2 ┆ 2024-05- │\n",
      "│ a.eft3oxw ┆ b\\xbe\\xe5 ┆ \"         ┆ 7 18:40:2 ┆   ┆ 419574, … ┆ 3 21:05:2 ┆ 7 12:07:2 ┆ 04 07:25 │\n",
      "│ x@example ┆ \\xbe\\xb7\\ ┆           ┆ 5.892196  ┆   ┆ 488961]   ┆ 5.892199  ┆ 5.892199  ┆ :25.8921 │\n",
      "│ .or…      ┆ xe5…      ┆           ┆ UTC       ┆   ┆           ┆ UTC       ┆ UTC       ┆ 99 UTC   │\n",
      "└───────────┴───────────┴───────────┴───────────┴───┴───────────┴───────────┴───────────┴──────────┘\n"
     ]
    }
   ],
   "source": [
    "print(df)"
   ]
  },
  {
   "cell_type": "code",
   "execution_count": null,
   "id": "9e8d7605",
   "metadata": {},
   "outputs": [],
   "source": [
    "df.filter(pl.col('name') == '')"
   ]
  }
 ],
 "metadata": {
  "kernelspec": {
   "display_name": "Python 3 (ipykernel)",
   "language": "python",
   "name": "python3"
  },
  "language_info": {
   "codemirror_mode": {
    "name": "ipython",
    "version": 3
   },
   "file_extension": ".py",
   "mimetype": "text/x-python",
   "name": "python",
   "nbconvert_exporter": "python",
   "pygments_lexer": "ipython3",
   "version": "3.11.9"
  }
 },
 "nbformat": 4,
 "nbformat_minor": 5
}
